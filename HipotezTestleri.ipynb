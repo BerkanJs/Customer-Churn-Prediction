{
 "cells": [
  {
   "cell_type": "code",
   "execution_count": 1,
   "id": "e15ed4b3-776e-4573-86d1-31cfe899f010",
   "metadata": {
    "tags": []
   },
   "outputs": [
    {
     "name": "stdout",
     "output_type": "stream",
     "text": [
      "<class 'pandas.core.frame.DataFrame'>\n",
      "Index: 7032 entries, 0 to 7042\n",
      "Data columns (total 21 columns):\n",
      " #   Column            Non-Null Count  Dtype  \n",
      "---  ------            --------------  -----  \n",
      " 0   customerID        7032 non-null   object \n",
      " 1   gender            7032 non-null   object \n",
      " 2   SeniorCitizen     7032 non-null   object \n",
      " 3   Partner           7032 non-null   object \n",
      " 4   Dependents        7032 non-null   object \n",
      " 5   tenure            7032 non-null   int64  \n",
      " 6   PhoneService      7032 non-null   object \n",
      " 7   MultipleLines     7032 non-null   object \n",
      " 8   InternetService   7032 non-null   object \n",
      " 9   OnlineSecurity    7032 non-null   object \n",
      " 10  OnlineBackup      7032 non-null   object \n",
      " 11  DeviceProtection  7032 non-null   object \n",
      " 12  TechSupport       7032 non-null   object \n",
      " 13  StreamingTV       7032 non-null   object \n",
      " 14  StreamingMovies   7032 non-null   object \n",
      " 15  Contract          7032 non-null   object \n",
      " 16  PaperlessBilling  7032 non-null   object \n",
      " 17  PaymentMethod     7032 non-null   object \n",
      " 18  MonthlyCharges    7032 non-null   float64\n",
      " 19  TotalCharges      7032 non-null   float64\n",
      " 20  Churn             7032 non-null   object \n",
      "dtypes: float64(2), int64(1), object(18)\n",
      "memory usage: 1.2+ MB\n"
     ]
    }
   ],
   "source": [
    "import pandas as pd\n",
    "import numpy as np\n",
    "import seaborn as sns\n",
    "import matplotlib.pyplot as plt\n",
    "file_path = 'CustomerChurnData.csv'\n",
    "df = pd.read_csv(file_path)\n",
    "import warnings\n",
    "\n",
    "warnings.filterwarnings('ignore')\n",
    "sns.set_style()\n",
    "\n",
    "df['TotalCharges'] = pd.to_numeric(df['TotalCharges'], errors='coerce')\n",
    "df['SeniorCitizen'] = df['SeniorCitizen'].astype('object')\n",
    "df = df.drop_duplicates()\n",
    "df = df.dropna()\n",
    "df.info()"
   ]
  },
  {
   "cell_type": "markdown",
   "id": "d932735b-0cc0-46b6-a958-9769bc6a8ea7",
   "metadata": {},
   "source": [
    "### Normallik, Çarpıklık ,Basıklık"
   ]
  },
  {
   "cell_type": "markdown",
   "id": "f1b69a23-41e6-47fe-88e0-e326f4f6aa32",
   "metadata": {
    "tags": []
   },
   "source": [
    "#### Shapiro-wilks"
   ]
  },
  {
   "cell_type": "code",
   "execution_count": 4,
   "id": "5b1ad2d9-5153-4d70-b8e3-ee7cd286307d",
   "metadata": {
    "tags": []
   },
   "outputs": [
    {
     "name": "stdout",
     "output_type": "stream",
     "text": [
      "tenure için Shapiro-Wilk testi:\n",
      "  Test istatistiği: 0.9037960171699524\n",
      "  p-değeri: 0.0\n",
      "\n",
      "tenure verisi normal dağılmıyor.\n",
      "\n",
      "MonthlyCharges için Shapiro-Wilk testi:\n",
      "  Test istatistiği: 0.9209239482879639\n",
      "  p-değeri: 0.0\n",
      "\n",
      "MonthlyCharges verisi normal dağılmıyor.\n",
      "\n",
      "TotalCharges için Shapiro-Wilk testi:\n",
      "  Test istatistiği: 0.8604329228401184\n",
      "  p-değeri: 0.0\n",
      "\n",
      "TotalCharges verisi normal dağılmıyor.\n",
      "\n"
     ]
    }
   ],
   "source": [
    "from scipy import stats\n",
    "\n",
    "\n",
    "numeric_columns = df.select_dtypes(include=['float64', 'int64'])\n",
    "\n",
    "\n",
    "for column in numeric_columns.columns:\n",
    "    stat, p_value = stats.shapiro(df[column])\n",
    "    print(f'{column} için Shapiro-Wilk testi:')\n",
    "    print(f'  Test istatistiği: {stat}')\n",
    "    print(f'  p-değeri: {p_value}\\n')\n",
    "\n",
    "    if p_value < 0.05:\n",
    "        print(f'{column} verisi normal dağılmıyor.\\n')\n",
    "    else:\n",
    "        print(f'{column} verisi normal dağılıyor.\\n')"
   ]
  },
  {
   "cell_type": "markdown",
   "id": "63e62d74-d3b1-428b-a0b0-0c7f717019fe",
   "metadata": {},
   "source": [
    "#### Çarpıklık ve Basıklık"
   ]
  },
  {
   "cell_type": "code",
   "execution_count": 6,
   "id": "2101deb4-f004-4f57-be06-8c3501a7e77f",
   "metadata": {
    "tags": []
   },
   "outputs": [
    {
     "name": "stdout",
     "output_type": "stream",
     "text": [
      "tenure için Çarpıklık (Skewness): 0.23773083190513133 - Simetrik\n",
      "tenure için Basıklık (Kurtosis): -1.3878225795553585 - Aşırı düz\n",
      "\n",
      "MonthlyCharges için Çarpıklık (Skewness): -0.22210292770166232 - Simetrik\n",
      "MonthlyCharges için Basıklık (Kurtosis): -1.256156424371879 - Aşırı düz\n",
      "\n",
      "TotalCharges için Çarpıklık (Skewness): 0.9616424997242504 - Hafif sağa çarpık\n",
      "TotalCharges için Basıklık (Kurtosis): -0.23179876086937945 - Daha düz, platykurtik\n",
      "\n"
     ]
    }
   ],
   "source": [
    "import pandas as pd\n",
    "\n",
    "numeric_columns = df.select_dtypes(include=['float64', 'int64'])\n",
    "\n",
    "for column in numeric_columns.columns:\n",
    "    skewness = numeric_columns[column].skew()  # Çarpıklık\n",
    "    kurtosis = numeric_columns[column].kurt()  # Basıklık\n",
    "    \n",
    "    if skewness > 2:\n",
    "        skewness_level = 'Şiddetli sağa çarpık'\n",
    "    elif skewness > 1:\n",
    "        skewness_level = 'Orta derecede sağa çarpık'\n",
    "    elif skewness > 0.5:\n",
    "        skewness_level = 'Hafif sağa çarpık'\n",
    "    elif skewness > -0.5:\n",
    "        skewness_level = 'Simetrik'\n",
    "    elif skewness > -1:\n",
    "        skewness_level = 'Hafif sola çarpık'\n",
    "    elif skewness > -2:\n",
    "        skewness_level = 'Orta derecede sola çarpık'\n",
    "    else:\n",
    "        skewness_level = 'Şiddetli sola çarpık'\n",
    "    \n",
    "    if kurtosis > 6:\n",
    "        kurtosis_level = 'Aşırı leptokurtik (çok belirgin uç noktalar)'\n",
    "    elif kurtosis > 3:\n",
    "        kurtosis_level = 'Leptokurtik (keskin dağılım)'\n",
    "    elif kurtosis > 0:\n",
    "        kurtosis_level = 'Normal dağılıma yakın'\n",
    "    elif kurtosis > -1:\n",
    "        kurtosis_level = 'Daha düz, platykurtik'\n",
    "    else:\n",
    "        kurtosis_level = 'Aşırı düz'\n",
    "    \n",
    "\n",
    "    print(f'{column} için Çarpıklık (Skewness): {skewness} - {skewness_level}')\n",
    "    print(f'{column} için Basıklık (Kurtosis): {kurtosis} - {kurtosis_level}\\n')\n"
   ]
  },
  {
   "cell_type": "markdown",
   "id": "d94f385f-b821-4235-9b94-8dc75eca7358",
   "metadata": {},
   "source": [
    "#### Özet:\n",
    "\n",
    "\"Tenure\" ve \"MonthlyCharges\" verileri simetrik ve düz bir dağılıma sahip.\n",
    "\n",
    "\"TotalCharges\" ise sağa doğru hafif çarpık, yani uç değerler daha büyük olan tarafta yoğunlaşmış.\n",
    "\n",
    "Tüm üç değişken de normal dağılımdan daha düz (platykurtik) ve uç değerler nispeten nadir."
   ]
  },
  {
   "cell_type": "markdown",
   "id": "e7a69647-e541-4236-89ae-849425fa02f9",
   "metadata": {},
   "source": [
    "### Levene testi "
   ]
  },
  {
   "cell_type": "code",
   "execution_count": 9,
   "id": "c0a90a03-d378-4439-aece-7edf005ac345",
   "metadata": {
    "tags": []
   },
   "outputs": [
    {
     "name": "stdout",
     "output_type": "stream",
     "text": [
      "Levene Testi Sonucu (tenure):\n",
      "Test İstatistiği: 413.12200447560826, p-değeri: 2.715805716226133e-89\n",
      "Varyanslar eşit değil (istatistiksel olarak anlamlı).\n",
      "\n",
      "Levene Testi Sonucu (MonthlyCharges):\n",
      "Test İstatistiği: 361.49804291657125, p-değeri: 1.2187537087145883e-78\n",
      "Varyanslar eşit değil (istatistiksel olarak anlamlı).\n",
      "\n",
      "Levene Testi Sonucu (TotalCharges):\n",
      "Test İstatistiği: 166.5404379147951, p-değeri: 1.1261484352280497e-37\n",
      "Varyanslar eşit değil (istatistiksel olarak anlamlı).\n",
      "\n"
     ]
    }
   ],
   "source": [
    "import pandas as pd\n",
    "import scipy.stats as stats\n",
    "\n",
    "group_0 = df[df['Churn'] == 'No'][['tenure', 'MonthlyCharges', 'TotalCharges']]\n",
    "group_1 = df[df['Churn'] == 'Yes'][['tenure', 'MonthlyCharges', 'TotalCharges']]\n",
    "\n",
    "for column in group_0.columns:\n",
    "    stat, p_value = stats.levene(group_0[column], group_1[column])\n",
    "    print(f\"Levene Testi Sonucu ({column}):\")\n",
    "    print(f\"Test İstatistiği: {stat}, p-değeri: {p_value}\")\n",
    "    if p_value < 0.05:\n",
    "        print(\"Varyanslar eşit değil (istatistiksel olarak anlamlı).\")\n",
    "    else:\n",
    "        print(\"Varyanslar eşit (istatistiksel olarak anlamlı değil).\")\n",
    "    print()"
   ]
  },
  {
   "cell_type": "markdown",
   "id": "389e9a30-2aa3-4bab-b138-64440e440084",
   "metadata": {},
   "source": [
    "- Levene Testi sonucunda, churn olan ve olmayan gruplar arasında tenure, MonthlyCharges ve TotalCharges gibi sayısal değişkenlerin varyanslarının eşit olmadığını görüyoruz. Bu, veri setinde bu değişkenlerin farklı şekilde dağıldığını ve gruplar arasında farklı varyanslara sahip olduklarını gösteriyor.\n",
    "\n",
    "- Churn olanlar ve olmayanlar arasında bu değişkenlerin dağılımlarının farklı olduğunu (yani yüksek varyans) gördük. Bu, churn'u etkileyen bazı faktörlerin varyasyonlarını yansıtıyor. Örneğin, yüksek ücretler ödeyen müşteriler veya çok kısa süreli abonelikleri olanlar, daha yüksek churn riski taşıyor olabilirler.\n",
    "\n",
    "- Yüksek varyans, farklı müşteri segmentlerinin olduğunu ve bu segmentlerin churn oranlarını farklı şekillerde etkileyebileceğini gösteriyor. Yani, bazı müşteriler yüksek ücretlere rağmen uzun süre abone kalırken, bazıları ise yüksek ücretleri ödedikleri halde kısa sürede ayrılabilir."
   ]
  },
  {
   "cell_type": "markdown",
   "id": "a1b6e7e4-57ca-4562-87a8-4999c91a4bfa",
   "metadata": {},
   "source": [
    "#### Chi-Square testi"
   ]
  },
  {
   "cell_type": "code",
   "execution_count": 12,
   "id": "e7f6fdf0-86be-4514-98e3-59db0217cd44",
   "metadata": {
    "tags": []
   },
   "outputs": [
    {
     "name": "stdout",
     "output_type": "stream",
     "text": [
      "gender için Chi-Square Testi:\n",
      "Test İstatistiği: 0.47545453727386294, p-değeri: 0.4904884707065509\n",
      "Churn ile bu değişken arasında anlamlı bir ilişki yok.\n",
      "\n",
      "SeniorCitizen için Chi-Square Testi:\n",
      "Test İstatistiği: 158.4408162893713, p-değeri: 2.4792557203954705e-36\n",
      "Churn ile bu değişken arasında anlamlı bir ilişki var.\n",
      "\n",
      "Partner için Chi-Square Testi:\n",
      "Test İstatistiği: 157.50315146557506, p-değeri: 3.97379757451591e-36\n",
      "Churn ile bu değişken arasında anlamlı bir ilişki var.\n",
      "\n",
      "Dependents için Chi-Square Testi:\n",
      "Test İstatistiği: 186.32163933855873, p-değeri: 2.0196592017051303e-42\n",
      "Churn ile bu değişken arasında anlamlı bir ilişki var.\n",
      "\n",
      "PhoneService için Chi-Square Testi:\n",
      "Test İstatistiği: 0.8737327674431736, p-değeri: 0.34992398942431924\n",
      "Churn ile bu değişken arasında anlamlı bir ilişki yok.\n",
      "\n",
      "MultipleLines için Chi-Square Testi:\n",
      "Test İstatistiği: 11.271540824020612, p-değeri: 0.0035679273999811405\n",
      "Churn ile bu değişken arasında anlamlı bir ilişki var.\n",
      "\n",
      "InternetService için Chi-Square Testi:\n",
      "Test İstatistiği: 728.6956143058695, p-değeri: 5.831198962236941e-159\n",
      "Churn ile bu değişken arasında anlamlı bir ilişki var.\n",
      "\n",
      "OnlineSecurity için Chi-Square Testi:\n",
      "Test İstatistiği: 846.6773889208487, p-değeri: 1.4006867477839222e-184\n",
      "Churn ile bu değişken arasında anlamlı bir ilişki var.\n",
      "\n",
      "OnlineBackup için Chi-Square Testi:\n",
      "Test İstatistiği: 599.1751847059026, p-değeri: 7.776099238804965e-131\n",
      "Churn ile bu değişken arasında anlamlı bir ilişki var.\n",
      "\n",
      "DeviceProtection için Chi-Square Testi:\n",
      "Test İstatistiği: 555.8803273428508, p-değeri: 1.9593887862403176e-121\n",
      "Churn ile bu değişken arasında anlamlı bir ilişki var.\n",
      "\n",
      "TechSupport için Chi-Square Testi:\n",
      "Test İstatistiği: 824.9255643875022, p-değeri: 7.407807748843288e-180\n",
      "Churn ile bu değişken arasında anlamlı bir ilişki var.\n",
      "\n",
      "StreamingTV için Chi-Square Testi:\n",
      "Test İstatistiği: 372.45650193550733, p-değeri: 1.3246411131691968e-81\n",
      "Churn ile bu değişken arasında anlamlı bir ilişki var.\n",
      "\n",
      "StreamingMovies için Chi-Square Testi:\n",
      "Test İstatistiği: 374.26843157324595, p-değeri: 5.353560421401323e-82\n",
      "Churn ile bu değişken arasında anlamlı bir ilişki var.\n",
      "\n",
      "Contract için Chi-Square Testi:\n",
      "Test İstatistiği: 1179.5458287339447, p-değeri: 7.326182186264635e-257\n",
      "Churn ile bu değişken arasında anlamlı bir ilişki var.\n",
      "\n",
      "PaperlessBilling için Chi-Square Testi:\n",
      "Test İstatistiği: 256.87490836218717, p-değeri: 8.236203353962564e-58\n",
      "Churn ile bu değişken arasında anlamlı bir ilişki var.\n",
      "\n",
      "PaymentMethod için Chi-Square Testi:\n",
      "Test İstatistiği: 645.4299001234639, p-değeri: 1.4263098511062525e-139\n",
      "Churn ile bu değişken arasında anlamlı bir ilişki var.\n",
      "\n"
     ]
    }
   ],
   "source": [
    "import pandas as pd\n",
    "import scipy.stats as stats\n",
    "\n",
    "categorical_columns = ['gender', 'SeniorCitizen', 'Partner', 'Dependents', 'PhoneService',\n",
    "                       'MultipleLines', 'InternetService', 'OnlineSecurity', 'OnlineBackup', \n",
    "                       'DeviceProtection', 'TechSupport', 'StreamingTV', 'StreamingMovies', \n",
    "                       'Contract', 'PaperlessBilling', 'PaymentMethod']\n",
    "\n",
    "\n",
    "for column in categorical_columns:\n",
    "    contingency_table = pd.crosstab(df['Churn'], df[column]) \n",
    "    chi2_stat, p_value, dof, expected = stats.chi2_contingency(contingency_table) \n",
    "    print(f\"{column} için Chi-Square Testi:\")\n",
    "    print(f\"Test İstatistiği: {chi2_stat}, p-değeri: {p_value}\")\n",
    "    if p_value < 0.05:\n",
    "        print(\"Churn ile bu değişken arasında anlamlı bir ilişki var.\")\n",
    "    else:\n",
    "        print(\"Churn ile bu değişken arasında anlamlı bir ilişki yok.\")\n",
    "    print()\n"
   ]
  },
  {
   "cell_type": "markdown",
   "id": "372c24da-5628-4889-9861-1aba0ea35787",
   "metadata": {},
   "source": [
    "#### Phi Coefficient için (2 Kategorili Değişkenler)"
   ]
  },
  {
   "cell_type": "code",
   "execution_count": 14,
   "id": "ee7b5ba2-4d78-4b71-a304-d2e7faef27ff",
   "metadata": {
    "tags": []
   },
   "outputs": [
    {
     "name": "stdout",
     "output_type": "stream",
     "text": [
      "gender için Phi Coefficient değeri: 0.008222711767086818\n",
      "Zayıf ilişki\n",
      "\n",
      "SeniorCitizen için Phi Coefficient değeri: 0.15010463561752393\n",
      "Orta seviyede ilişki\n",
      "\n",
      "Partner için Phi Coefficient değeri: 0.1496598111790044\n",
      "Orta seviyede ilişki\n",
      "\n",
      "Dependents için Phi Coefficient değeri: 0.16277669159928557\n",
      "Orta seviyede ilişki\n",
      "\n",
      "PhoneService için Phi Coefficient değeri: 0.011146791573280324\n",
      "Zayıf ilişki\n",
      "\n",
      "PaperlessBilling için Phi Coefficient değeri: 0.19112672191120977\n",
      "Orta seviyede ilişki\n",
      "\n"
     ]
    }
   ],
   "source": [
    "import numpy as np\n",
    "import pandas as pd\n",
    "from scipy.stats import chi2_contingency\n",
    "\n",
    "def phi_coefficient(contingency_table):\n",
    "    chi2_stat, p_value, dof, expected = chi2_contingency(contingency_table)\n",
    "    return np.sqrt(chi2_stat / np.sum(contingency_table.values) / min(contingency_table.shape[0]-1, contingency_table.shape[1]-1))\n",
    "\n",
    "phi_columns = ['gender', 'SeniorCitizen', 'Partner', 'Dependents', 'PhoneService', 'PaperlessBilling']\n",
    "\n",
    "for column in phi_columns:\n",
    "    contingency_table = pd.crosstab(df['Churn'], df[column])  \n",
    "    phi_value = phi_coefficient(contingency_table)\n",
    "    print(f\"{column} için Phi Coefficient değeri: {phi_value}\")\n",
    "    if abs(phi_value) < 0.1:\n",
    "        print(\"Zayıf ilişki\")\n",
    "    elif abs(phi_value) < 0.3:\n",
    "        print(\"Orta seviyede ilişki\")\n",
    "    else:\n",
    "        print(\"Güçlü ilişki\")\n",
    "    print()\n"
   ]
  },
  {
   "cell_type": "markdown",
   "id": "e4e49fb3-3402-4bbd-bec8-299ea4b384b4",
   "metadata": {},
   "source": [
    "#### Cramér's V için (3 veya Daha Fazla Kategorili Değişkenler)"
   ]
  },
  {
   "cell_type": "code",
   "execution_count": 16,
   "id": "38c5d7bb-4dab-434c-b490-1b3804cf8c60",
   "metadata": {
    "tags": []
   },
   "outputs": [
    {
     "name": "stdout",
     "output_type": "stream",
     "text": [
      "Cramér's V between churn and MultipleLines: 0.0400 - Very weak relationship\n",
      "Cramér's V between churn and InternetService: 0.3219 - Moderate relationship\n",
      "Cramér's V between churn and OnlineSecurity: 0.3470 - Moderate relationship\n",
      "Cramér's V between churn and Contract: 0.4096 - Moderate relationship\n",
      "Cramér's V between churn and PaymentMethod: 0.3030 - Moderate relationship\n"
     ]
    }
   ],
   "source": [
    "import pandas as pd\n",
    "import numpy as np\n",
    "from scipy.stats import chi2_contingency\n",
    "\n",
    "def cramers_v(confusion_matrix):\n",
    "    # Cramér's V hesaplama fonksiyonu\n",
    "    chi2, p, dof, expected = chi2_contingency(confusion_matrix)\n",
    "    n = confusion_matrix.sum().sum()  # Toplam hücre sayısı\n",
    "    return np.sqrt(chi2 / (n * (min(confusion_matrix.shape) - 1)))\n",
    "\n",
    "def relationship_strength(cramers_v_value):\n",
    "    # Cramér's V değerine göre ilişki gücünü belirleme\n",
    "    if cramers_v_value < 0.1:\n",
    "        return \"Very weak relationship\"\n",
    "    elif cramers_v_value < 0.3:\n",
    "        return \"Weak relationship\"\n",
    "    elif cramers_v_value < 0.5:\n",
    "        return \"Moderate relationship\"\n",
    "    else:\n",
    "        return \"Strong relationship\"\n",
    "\n",
    "# Örnek veri\n",
    "# df, veri çerçeveniz olsun\n",
    "categorical_columns = ['MultipleLines', 'InternetService', 'OnlineSecurity', 'Contract', 'PaymentMethod']\n",
    "\n",
    "for column in categorical_columns:\n",
    "    # Her bir kategorik değişken ile churn arasındaki kontingans tablosu\n",
    "    confusion_matrix = pd.crosstab(df[column], df['Churn'])\n",
    "    cramers_v_value = cramers_v(confusion_matrix)\n",
    "    relationship = relationship_strength(cramers_v_value)\n",
    "    \n",
    "    print(f'Cramér\\'s V between churn and {column}: {cramers_v_value:.4f} - {relationship}')\n"
   ]
  },
  {
   "cell_type": "markdown",
   "id": "9fdaf58a-90ce-4681-8abc-7e26da6f724a",
   "metadata": {},
   "source": [
    "#### Kruskal-Wallis H"
   ]
  },
  {
   "cell_type": "code",
   "execution_count": 18,
   "id": "831210f6-8db8-463d-997c-ad69daadcd08",
   "metadata": {
    "tags": []
   },
   "outputs": [
    {
     "name": "stdout",
     "output_type": "stream",
     "text": [
      "\n",
      "Kruskal-Wallis H testi 'MonthlyCharges' için:\n",
      "Test İstatistiği (H): 238.4729\n",
      "P-değeri: 0.0000\n",
      "Gruplar arasında istatistiksel olarak anlamlı bir fark var.\n",
      "\n",
      "Sonuç: MonthlyCharges ile Churn arasında anlamlı bir ilişki bulunuyor.\n",
      "\n",
      "\n",
      "Kruskal-Wallis H testi 'TotalCharges' için:\n",
      "Test İstatistiği (H): 379.0578\n",
      "P-değeri: 0.0000\n",
      "Gruplar arasında istatistiksel olarak anlamlı bir fark var.\n",
      "\n",
      "Sonuç: TotalCharges ile Churn arasında anlamlı bir ilişki bulunuyor.\n",
      "\n",
      "\n",
      "Kruskal-Wallis H testi 'tenure' için:\n",
      "Test İstatistiği (H): 960.7721\n",
      "P-değeri: 0.0000\n",
      "Gruplar arasında istatistiksel olarak anlamlı bir fark var.\n",
      "\n",
      "Sonuç: tenure ile Churn arasında anlamlı bir ilişki bulunuyor.\n",
      "\n"
     ]
    }
   ],
   "source": [
    "from scipy.stats import kruskal\n",
    "\n",
    "numerical_columns = ['MonthlyCharges', 'TotalCharges', 'tenure']\n",
    "\n",
    "# Döngü ile her bir nümerik değişken için Kruskal-Wallis testi uygulama\n",
    "for column in numerical_columns:\n",
    "    churn_yes = df[df['Churn'] == 'Yes'][column]\n",
    "    churn_no = df[df['Churn'] == 'No'][column]\n",
    "    \n",
    "    # Kruskal-Wallis H testi uygulama\n",
    "    stat, p_value = kruskal(churn_yes, churn_no)\n",
    "    \n",
    "    # Çıktıyı daha okunabilir hale getirme\n",
    "    print(f\"\\nKruskal-Wallis H testi '{column}' için:\")\n",
    "    print(f\"Test İstatistiği (H): {stat:.4f}\")\n",
    "    print(f\"P-değeri: {p_value:.4f}\")\n",
    "    \n",
    "    # İstatistiksel yorum\n",
    "    if p_value < 0.05:\n",
    "        print(\"Gruplar arasında istatistiksel olarak anlamlı bir fark var.\\n\")\n",
    "        print(f\"Sonuç: {column} ile Churn arasında anlamlı bir ilişki bulunuyor.\\n\")\n",
    "    else:\n",
    "        print(\"Gruplar arasında istatistiksel olarak anlamlı bir fark yok.\\n\")\n",
    "        print(f\"Sonuç: {column} ile Churn arasında anlamlı bir ilişki bulunmuyor.\\n\")\n"
   ]
  },
  {
   "cell_type": "markdown",
   "id": "b40f3241-7d93-4c50-8618-610aa26b46f5",
   "metadata": {},
   "source": [
    "- Churn (Yes/No) ile MonthlyCharges arasında anlamlı bir fark var. Yani, Churn (abone iptali) durumu, MonthlyCharges (aylık ücret) değerinde istatistiksel olarak anlamlı bir fark yaratıyor. Bu, Churn'ün (abone iptali) kullanıcıların aylık ücretlerini etkileyen bir faktör olduğunu gösteriyor.\n",
    "\n",
    "- Churn ile TotalCharges (toplam ücret) arasında da anlamlı bir fark var. Bu, Churn (abone iptali) durumunun TotalCharges üzerinde anlamlı bir etkisi olduğunu gösteriyor. Yani, abonelik iptalinin kullanıcıların toplam ödeme miktarı üzerinde de fark yarattığını söyleyebiliriz.\n",
    "\n",
    "-  Churn ile tenure (abone olma süresi) arasında da anlamlı bir fark bulunmuş. Yani, kullanıcıların abonelik süreleri ile abone iptali arasında güçlü bir ilişki var. Örneğin, tenure süresi düşük olan kullanıcıların iptal etme olasılıkları daha yüksek olabilir."
   ]
  },
  {
   "cell_type": "markdown",
   "id": "cd493245-4d77-4d7f-be75-1f13bc56c325",
   "metadata": {},
   "source": [
    "#### Pearson Korelasyon Testi"
   ]
  },
  {
   "cell_type": "code",
   "execution_count": 21,
   "id": "aecc029d-4ee6-4d78-9073-8ed8cb182d66",
   "metadata": {
    "tags": []
   },
   "outputs": [
    {
     "name": "stdout",
     "output_type": "stream",
     "text": [
      "\n",
      "Pearson Korelasyonu 'MonthlyCharges' ve 'TotalCharges' için:\n",
      "Korelasyon Katsayısı: 0.6511\n",
      "P-değeri: 0.0000\n",
      "Korelasyon istatistiksel olarak anlamlı.\n",
      "\n",
      "\n",
      "Pearson Korelasyonu 'MonthlyCharges' ve 'tenure' için:\n",
      "Korelasyon Katsayısı: 0.2469\n",
      "P-değeri: 0.0000\n",
      "Korelasyon istatistiksel olarak anlamlı.\n",
      "\n",
      "\n",
      "Pearson Korelasyonu 'TotalCharges' ve 'tenure' için:\n",
      "Korelasyon Katsayısı: 0.8259\n",
      "P-değeri: 0.0000\n",
      "Korelasyon istatistiksel olarak anlamlı.\n",
      "\n"
     ]
    }
   ],
   "source": [
    "from scipy.stats import pearsonr\n",
    "\n",
    "numerical_columns = ['MonthlyCharges', 'TotalCharges', 'tenure']\n",
    "\n",
    "\n",
    "for i in range(len(numerical_columns)):\n",
    "    for j in range(i + 1, len(numerical_columns)):\n",
    "        col1 = numerical_columns[i]\n",
    "        col2 = numerical_columns[j]\n",
    "        \n",
    "        \n",
    "        corr_coefficient, p_value = pearsonr(df[col1], df[col2])\n",
    "        \n",
    "\n",
    "        print(f\"\\nPearson Korelasyonu '{col1}' ve '{col2}' için:\")\n",
    "        print(f\"Korelasyon Katsayısı: {corr_coefficient:.4f}\")\n",
    "        print(f\"P-değeri: {p_value:.4f}\")\n",
    "        \n",
    "       \n",
    "        if p_value < 0.05:\n",
    "            print(\"Korelasyon istatistiksel olarak anlamlı.\\n\")\n",
    "        else:\n",
    "            print(\"Korelasyon istatistiksel olarak anlamlı değil.\\n\")\n"
   ]
  },
  {
   "cell_type": "code",
   "execution_count": 22,
   "id": "088a9d8e-a354-4ab3-9abb-95a5fd63fd3e",
   "metadata": {
    "tags": []
   },
   "outputs": [
    {
     "name": "stdout",
     "output_type": "stream",
     "text": [
      "Korelasyon Matrisi:\n",
      "                MonthlyCharges  TotalCharges    tenure\n",
      "MonthlyCharges        1.000000      0.651065  0.246862\n",
      "TotalCharges          0.651065      1.000000  0.825880\n",
      "tenure                0.246862      0.825880  1.000000\n"
     ]
    },
    {
     "data": {
      "image/png": "[encoded data removed]",
      "text/plain": [
       "<Figure size 800x600 with 2 Axes>"
      ]
     },
     "metadata": {},
     "output_type": "display_data"
    }
   ],
   "source": [
    "import pandas as pd\n",
    "import seaborn as sns\n",
    "import matplotlib.pyplot as plt\n",
    "\n",
    "\n",
    "numerical_columns = ['MonthlyCharges', 'TotalCharges', 'tenure']\n",
    "\n",
    "\n",
    "corr_matrix = df[numerical_columns].corr()\n",
    "\n",
    "\n",
    "print(\"Korelasyon Matrisi:\")\n",
    "print(corr_matrix)\n",
    "\n",
    "\n",
    "plt.figure(figsize=(8, 6))\n",
    "sns.heatmap(corr_matrix, annot=True, cmap='coolwarm', fmt='.2f', linewidths=0.5)\n",
    "plt.title(\"Korelasyon Matrisi\")\n",
    "plt.show()\n"
   ]
  },
  {
   "cell_type": "code",
   "execution_count": 23,
   "id": "be1eed89-fc36-4f7a-9eb3-a9100ffafe18",
   "metadata": {
    "tags": []
   },
   "outputs": [
    {
     "name": "stdout",
     "output_type": "stream",
     "text": [
      "VIF Değerleri:\n",
      "         Variable        VIF\n",
      "0           const  14.973839\n",
      "1  MonthlyCharges   3.225293\n",
      "2    TotalCharges   9.526697\n",
      "3          tenure   5.844646\n"
     ]
    }
   ],
   "source": [
    "import pandas as pd\n",
    "from statsmodels.stats.outliers_influence import variance_inflation_factor\n",
    "from statsmodels.tools.tools import add_constant\n",
    "\n",
    "\n",
    "numerical_columns = ['MonthlyCharges', 'TotalCharges', 'tenure']\n",
    "\n",
    "X = df[numerical_columns]\n",
    "\n",
    "\n",
    "X_const = add_constant(X)\n",
    "\n",
    "\n",
    "vif_data = pd.DataFrame()\n",
    "vif_data[\"Variable\"] = X_const.columns\n",
    "vif_data[\"VIF\"] = [variance_inflation_factor(X_const.values, i) for i in range(X_const.shape[1])]\n",
    "\n",
    "\n",
    "print(\"VIF Değerleri:\")\n",
    "print(vif_data)\n"
   ]
  },
  {
   "cell_type": "markdown",
   "id": "3c1b7002-4400-4981-9a49-4d5966c26a37",
   "metadata": {},
   "source": [
    "#### Mutual Regression"
   ]
  },
  {
   "cell_type": "code",
   "execution_count": 38,
   "id": "2c066ace-8aa0-4d5a-8a2e-d4c1f0225ddb",
   "metadata": {
    "tags": []
   },
   "outputs": [
    {
     "name": "stdout",
     "output_type": "stream",
     "text": [
      "             Feature  Mutual Information\n",
      "14          Contract            0.093951\n",
      "4             tenure            0.074733\n",
      "8     OnlineSecurity            0.067131\n",
      "11       TechSupport            0.057943\n",
      "7    InternetService            0.055041\n",
      "17    MonthlyCharges            0.048938\n",
      "10  DeviceProtection            0.047024\n",
      "9       OnlineBackup            0.046287\n",
      "18      TotalCharges            0.043329\n",
      "16     PaymentMethod            0.043252\n",
      "13   StreamingMovies            0.034548\n",
      "12       StreamingTV            0.029269\n",
      "15  PaperlessBilling            0.018845\n",
      "2            Partner            0.018399\n",
      "1      SeniorCitizen            0.007779\n",
      "3         Dependents            0.007395\n",
      "5       PhoneService            0.002266\n",
      "0             gender            0.001720\n",
      "6      MultipleLines            0.000000\n",
      "Model Accuracy: 0.7853589196872779\n"
     ]
    }
   ],
   "source": [
    "\n",
    "import pandas as pd\n",
    "from sklearn.model_selection import train_test_split\n",
    "from sklearn.feature_selection import mutual_info_classif\n",
    "from sklearn.linear_model import LogisticRegression\n",
    "from sklearn.metrics import accuracy_score\n",
    "from sklearn.preprocessing import LabelEncoder\n",
    "\n",
    "\n",
    "\n",
    "df = df.drop(columns=['customerID'])\n",
    "\n",
    "\n",
    "y = df['Churn']\n",
    "\n",
    "\n",
    "categorical_columns = ['gender', 'SeniorCitizen', 'Partner', 'Dependents', \n",
    "                       'PhoneService', 'MultipleLines', 'InternetService', 'OnlineSecurity', \n",
    "                       'OnlineBackup', 'DeviceProtection', 'TechSupport', 'StreamingTV', \n",
    "                       'StreamingMovies', 'Contract', 'PaperlessBilling', 'PaymentMethod']\n",
    "\n",
    "# Kategorik veriler için Label Encoding veya One-Hot Encoding yapalım\n",
    "# LabelEncoder kullanarak kategorik verileri sayısallaştırıyoruz (sadece 2 kategori olanlar için)\n",
    "le = LabelEncoder()\n",
    "df['Churn'] = le.fit_transform(df['Churn'])  # Churn hedef değişkenini de encode ediyoruz\n",
    "\n",
    "for col in categorical_columns:\n",
    "    if df[col].dtype == 'object':  # Eğer kategorik bir değişkense\n",
    "        df[col] = le.fit_transform(df[col])  # Label encoding uyguluyoruz\n",
    "\n",
    "X = df.drop(columns=['Churn'])\n",
    "y = df['Churn']\n",
    "\n",
    "\n",
    "mi = mutual_info_classif(X, y)\n",
    "mi_df = pd.DataFrame({'Feature': X.columns, 'Mutual Information': mi})\n",
    "print(mi_df.sort_values(by='Mutual Information', ascending=False))\n",
    "\n",
    "\n",
    "X_train, X_test, y_train, y_test = train_test_split(X, y, test_size=0.2, random_state=42)\n",
    "\n",
    "\n",
    "model = LogisticRegression(max_iter=1000)\n",
    "model.fit(X_train, y_train)\n",
    "\n",
    "\n",
    "y_pred = model.predict(X_test)\n",
    "accuracy = accuracy_score(y_test, y_pred)\n",
    "print(f\"Model Accuracy: {accuracy}\")\n",
    "\n"
   ]
  },
  {
   "cell_type": "code",
   "execution_count": 44,
   "id": "f79e2688-04bc-4acc-9f42-527f27dbf52b",
   "metadata": {
    "tags": []
   },
   "outputs": [
    {
     "name": "stdout",
     "output_type": "stream",
     "text": [
      "Confusion Matrix:\n",
      "[[917 116]\n",
      " [186 188]]\n",
      "Classification Report:\n",
      "              precision    recall  f1-score   support\n",
      "\n",
      "           0       0.83      0.89      0.86      1033\n",
      "           1       0.62      0.50      0.55       374\n",
      "\n",
      "    accuracy                           0.79      1407\n",
      "   macro avg       0.72      0.70      0.71      1407\n",
      "weighted avg       0.77      0.79      0.78      1407\n",
      "\n"
     ]
    },
    {
     "data": {
      "image/png": "[encoded data removed]",
      "text/plain": [
       "<Figure size 800x600 with 1 Axes>"
      ]
     },
     "metadata": {},
     "output_type": "display_data"
    },
    {
     "name": "stdout",
     "output_type": "stream",
     "text": [
      "Cross-Validation Accuracy Scores (5-fold): [0.80739161 0.80525942 0.7916074  0.80796586 0.80512091]\n",
      "Mean Cross-Validation Accuracy: 0.8035\n"
     ]
    }
   ],
   "source": [
    "from sklearn.metrics import confusion_matrix, classification_report, roc_curve, auc\n",
    "import matplotlib.pyplot as plt\n",
    "\n",
    "# 1. Confusion Matrix\n",
    "cm = confusion_matrix(y_test, y_pred)\n",
    "print(\"Confusion Matrix:\")\n",
    "print(cm)\n",
    "\n",
    "# 2. Precision, Recall, F1-Score\n",
    "report = classification_report(y_test, y_pred)\n",
    "print(\"Classification Report:\")\n",
    "print(report)\n",
    "\n",
    "# 3. ROC Curve and AUC\n",
    "fpr, tpr, thresholds = roc_curve(y_test, model.predict_proba(X_test)[:, 1])\n",
    "roc_auc = auc(fpr, tpr)\n",
    "\n",
    "plt.figure(figsize=(8, 6))\n",
    "plt.plot(fpr, tpr, color='blue', label=f'ROC curve (AUC = {roc_auc:.2f})')\n",
    "plt.plot([0, 1], [0, 1], color='gray', linestyle='--')\n",
    "plt.title('Receiver Operating Characteristic (ROC) Curve')\n",
    "plt.xlabel('False Positive Rate')\n",
    "plt.ylabel('True Positive Rate')\n",
    "plt.legend(loc='lower right')\n",
    "plt.show()\n",
    "\n",
    "# 4. Cross-Validation (K-fold Cross-Validation)\n",
    "from sklearn.model_selection import cross_val_score\n",
    "\n",
    "cross_val_scores = cross_val_score(model, X, y, cv=5, scoring='accuracy')\n",
    "print(f\"Cross-Validation Accuracy Scores (5-fold): {cross_val_scores}\")\n",
    "print(f\"Mean Cross-Validation Accuracy: {cross_val_scores.mean():.4f}\")\n"
   ]
  },
  {
   "cell_type": "code",
   "execution_count": null,
   "id": "b53456d2-340b-4b45-8e05-94a745e3aa89",
   "metadata": {},
   "outputs": [],
   "source": []
  }
 ],
 "metadata": {
  "kernelspec": {
   "display_name": "Python 3 (ipykernel)",
   "language": "python",
   "name": "python3"
  },
  "language_info": {
   "codemirror_mode": {
    "name": "ipython",
    "version": 3
   },
   "file_extension": ".py",
   "mimetype": "text/x-python",
   "name": "python",
   "nbconvert_exporter": "python",
   "pygments_lexer": "ipython3",
   "version": "3.11.7"
  }
 },
 "nbformat": 4,
 "nbformat_minor": 5
}
