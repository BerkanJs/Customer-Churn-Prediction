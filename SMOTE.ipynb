{
 "cells": [
  {
   "cell_type": "code",
   "execution_count": 17,
   "id": "2d514078-a4ef-4cbf-87e7-7f3570e61b0b",
   "metadata": {
    "tags": []
   },
   "outputs": [
    {
     "name": "stdout",
     "output_type": "stream",
     "text": [
      "<class 'pandas.core.frame.DataFrame'>\n",
      "Index: 7010 entries, 0 to 7042\n",
      "Data columns (total 20 columns):\n",
      " #   Column            Non-Null Count  Dtype  \n",
      "---  ------            --------------  -----  \n",
      " 0   gender            7010 non-null   object \n",
      " 1   SeniorCitizen     7010 non-null   object \n",
      " 2   Partner           7010 non-null   object \n",
      " 3   Dependents        7010 non-null   object \n",
      " 4   tenure            7010 non-null   int64  \n",
      " 5   PhoneService      7010 non-null   object \n",
      " 6   MultipleLines     7010 non-null   object \n",
      " 7   InternetService   7010 non-null   object \n",
      " 8   OnlineSecurity    7010 non-null   object \n",
      " 9   OnlineBackup      7010 non-null   object \n",
      " 10  DeviceProtection  7010 non-null   object \n",
      " 11  TechSupport       7010 non-null   object \n",
      " 12  StreamingTV       7010 non-null   object \n",
      " 13  StreamingMovies   7010 non-null   object \n",
      " 14  Contract          7010 non-null   object \n",
      " 15  PaperlessBilling  7010 non-null   object \n",
      " 16  PaymentMethod     7010 non-null   object \n",
      " 17  MonthlyCharges    7010 non-null   float64\n",
      " 18  TotalCharges      7010 non-null   float64\n",
      " 19  Churn             7010 non-null   object \n",
      "dtypes: float64(2), int64(1), object(17)\n",
      "memory usage: 1.1+ MB\n"
     ]
    }
   ],
   "source": [
    "import pandas as pd\n",
    "import numpy as np\n",
    "import seaborn as sns\n",
    "import matplotlib.pyplot as plt\n",
    "file_path = 'C:/Users/BERKAN/Desktop/IT/Data Science/DataProjeler/CustomerChurn/CustomerChurnData.csv'\n",
    "df = pd.read_csv(file_path)\n",
    "import warnings\n",
    "\n",
    "warnings.filterwarnings('ignore')\n",
    "sns.set_style()\n",
    "\n",
    "df = df.drop(columns=['customerID'])\n",
    "df['TotalCharges'] = pd.to_numeric(df['TotalCharges'], errors='coerce')\n",
    "df['SeniorCitizen'] = df['SeniorCitizen'].astype('object')\n",
    "df = df.drop_duplicates()\n",
    "df = df.dropna()\n",
    "df.info()"
   ]
  },
  {
   "cell_type": "code",
   "execution_count": 21,
   "id": "f344ae49-685d-4d88-8a43-64748ace3709",
   "metadata": {
    "tags": []
   },
   "outputs": [
    {
     "name": "stdout",
     "output_type": "stream",
     "text": [
      "Orijinal veri (Churn): Churn\n",
      "0    5153\n",
      "1    1857\n",
      "Name: count, dtype: int64\n",
      "SMOTE sonrası veri (Churn): Churn\n",
      "0    5153\n",
      "1    5153\n",
      "Name: count, dtype: int64\n"
     ]
    }
   ],
   "source": [
    "\n",
    "\n",
    "import pandas as pd\n",
    "from sklearn.preprocessing import LabelEncoder, StandardScaler\n",
    "from imblearn.over_sampling import SMOTE\n",
    "\n",
    "\n",
    "categorical_columns = ['gender', 'SeniorCitizen', 'Partner', 'Dependents', 'PhoneService', 'MultipleLines', \n",
    "                       'InternetService', 'OnlineSecurity', 'OnlineBackup', 'DeviceProtection', 'TechSupport', \n",
    "                       'StreamingTV', 'StreamingMovies', 'Contract', 'PaperlessBilling', 'PaymentMethod']\n",
    "\n",
    "df_encoded = pd.get_dummies(df, columns=categorical_columns, drop_first=True)\n",
    "\n",
    "\n",
    "scaler = StandardScaler()\n",
    "df_encoded[['MonthlyCharges', 'TotalCharges', 'tenure']] = scaler.fit_transform(df_encoded[['MonthlyCharges', 'TotalCharges', 'tenure']])\n",
    "\n",
    "\n",
    "le = LabelEncoder()\n",
    "df_encoded['Churn'] = le.fit_transform(df_encoded['Churn']) \n",
    "\n",
    "\n",
    "X = df_encoded.drop('Churn', axis=1) \n",
    "y = df_encoded['Churn']  \n",
    "\n",
    "\n",
    "smote = SMOTE(sampling_strategy='minority', random_state=42)\n",
    "X_res, y_res = smote.fit_resample(X, y)\n",
    "\n",
    "\n",
    "print(f\"Orijinal veri (Churn): {y.value_counts()}\")\n",
    "print(f\"SMOTE sonrası veri (Churn): {y_res.value_counts()}\")\n",
    "\n"
   ]
  },
  {
   "cell_type": "code",
   "execution_count": 23,
   "id": "cd04bd57-8062-41c8-85dc-3bb151681ae8",
   "metadata": {
    "tags": []
   },
   "outputs": [
    {
     "name": "stdout",
     "output_type": "stream",
     "text": [
      "Accuracy: 0.8370514064015518\n",
      "\n",
      "Classification Report:\n",
      "               precision    recall  f1-score   support\n",
      "\n",
      "           0       0.86      0.81      0.83      1036\n",
      "           1       0.82      0.86      0.84      1026\n",
      "\n",
      "    accuracy                           0.84      2062\n",
      "   macro avg       0.84      0.84      0.84      2062\n",
      "weighted avg       0.84      0.84      0.84      2062\n",
      "\n"
     ]
    }
   ],
   "source": [
    "\n",
    "import xgboost as xgb\n",
    "from sklearn.model_selection import train_test_split\n",
    "from sklearn.metrics import classification_report, accuracy_score\n",
    "from sklearn.model_selection import GridSearchCV\n",
    "\n",
    "\n",
    "X_train, X_test, y_train, y_test = train_test_split(X_res, y_res, test_size=0.2, random_state=42)\n",
    "\n",
    "\n",
    "model = xgb.XGBClassifier(random_state=42)\n",
    "\n",
    "\n",
    "model.fit(X_train, y_train)\n",
    "\n",
    "\n",
    "y_pred = model.predict(X_test)\n",
    "\n",
    "\n",
    "print(\"Accuracy:\", accuracy_score(y_test, y_pred))\n",
    "print(\"\\nClassification Report:\\n\", classification_report(y_test, y_pred))\n"
   ]
  },
  {
   "cell_type": "code",
   "execution_count": 25,
   "id": "1630dce6-df3a-40fd-a7a1-4b677c722290",
   "metadata": {
    "tags": []
   },
   "outputs": [
    {
     "name": "stdout",
     "output_type": "stream",
     "text": [
      "Accuracy: 0.8370514064015518\n",
      "Precision: 0.8182656826568265\n",
      "Recall: 0.8645224171539961\n",
      "F1-Score: 0.8407582938388625\n",
      "\n",
      "Classification Report:\n",
      "              precision    recall  f1-score   support\n",
      "\n",
      "           0       0.86      0.81      0.83      1036\n",
      "           1       0.82      0.86      0.84      1026\n",
      "\n",
      "    accuracy                           0.84      2062\n",
      "   macro avg       0.84      0.84      0.84      2062\n",
      "weighted avg       0.84      0.84      0.84      2062\n",
      "\n"
     ]
    }
   ],
   "source": [
    "\n",
    "y_pred = model.predict(X_test)\n",
    "\n",
    "\n",
    "from sklearn.metrics import accuracy_score, precision_score, recall_score, f1_score, classification_report\n",
    "\n",
    "\n",
    "accuracy = accuracy_score(y_test, y_pred)\n",
    "print(\"Accuracy:\", accuracy)\n",
    "\n",
    "\n",
    "precision = precision_score(y_test, y_pred)\n",
    "print(\"Precision:\", precision)\n",
    "\n",
    "\n",
    "recall = recall_score(y_test, y_pred)\n",
    "print(\"Recall:\", recall)\n",
    "\n",
    "\n",
    "f1 = f1_score(y_test, y_pred)\n",
    "print(\"F1-Score:\", f1)\n",
    "\n",
    "\n",
    "print(\"\\nClassification Report:\")\n",
    "print(classification_report(y_test, y_pred))\n"
   ]
  },
  {
   "cell_type": "code",
   "execution_count": 27,
   "id": "c581e13f-3776-4fb3-9fc5-e1de56a6b4aa",
   "metadata": {
    "tags": []
   },
   "outputs": [
    {
     "name": "stdout",
     "output_type": "stream",
     "text": [
      "Training Accuracy: 0.9338913148956817\n",
      "Test Accuracy: 0.8370514064015518\n",
      "\n",
      "Classification Report on Training Data:\n",
      "              precision    recall  f1-score   support\n",
      "\n",
      "           0       0.95      0.91      0.93      4117\n",
      "           1       0.92      0.96      0.94      4127\n",
      "\n",
      "    accuracy                           0.93      8244\n",
      "   macro avg       0.93      0.93      0.93      8244\n",
      "weighted avg       0.93      0.93      0.93      8244\n",
      "\n",
      "\n",
      "Classification Report on Test Data:\n",
      "              precision    recall  f1-score   support\n",
      "\n",
      "           0       0.86      0.81      0.83      1036\n",
      "           1       0.82      0.86      0.84      1026\n",
      "\n",
      "    accuracy                           0.84      2062\n",
      "   macro avg       0.84      0.84      0.84      2062\n",
      "weighted avg       0.84      0.84      0.84      2062\n",
      "\n",
      "\n",
      "Model overfitting olabilir çünkü eğitim doğruluğu test doğruluğundan daha yüksek.\n"
     ]
    }
   ],
   "source": [
    "\n",
    "y_train_pred = model.predict(X_train)\n",
    "\n",
    "\n",
    "y_test_pred = model.predict(X_test)\n",
    "\n",
    "\n",
    "train_accuracy = accuracy_score(y_train, y_train_pred)\n",
    "print(\"Training Accuracy:\", train_accuracy)\n",
    "\n",
    "\n",
    "test_accuracy = accuracy_score(y_test, y_test_pred)\n",
    "print(\"Test Accuracy:\", test_accuracy)\n",
    "\n",
    "\n",
    "print(\"\\nClassification Report on Training Data:\")\n",
    "print(classification_report(y_train, y_train_pred))\n",
    "\n",
    "print(\"\\nClassification Report on Test Data:\")\n",
    "print(classification_report(y_test, y_test_pred))\n",
    "\n",
    "\n",
    "if train_accuracy > test_accuracy:\n",
    "    print(\"\\nModel overfitting olabilir çünkü eğitim doğruluğu test doğruluğundan daha yüksek.\")\n",
    "else:\n",
    "    print(\"\\nModelin doğruluğu eğitim ve test verisinde benzer olduğu için overfitting gözükmüyor.\")\n"
   ]
  },
  {
   "cell_type": "code",
   "execution_count": 29,
   "id": "da3b479e-8d1c-4008-907d-647b4bfa241c",
   "metadata": {
    "tags": []
   },
   "outputs": [
    {
     "name": "stdout",
     "output_type": "stream",
     "text": [
      "Training Accuracy: 0.8096797671033479\n",
      "Test Accuracy: 0.7982541222114452\n"
     ]
    }
   ],
   "source": [
    "\n",
    "model = xgb.XGBClassifier(\n",
    "    random_state=42,\n",
    "    max_depth=3,  # Derinliği sınırlama\n",
    "    n_estimators=100,  # Daha az sayıda ağaç\n",
    "    learning_rate=0.1,\n",
    "    subsample=0.8,  # Veri örnekleme oranını azaltma\n",
    "    colsample_bytree=0.8,  # Özellik örnekleme oranını azaltma\n",
    "    reg_lambda=1,  # L2 düzenlileştirme\n",
    "    reg_alpha=0.1,  # L1 düzenlileştirme\n",
    "    gamma=0.1  # Daha sıkı bir ağaç büyümesi\n",
    ")\n",
    "\n",
    "\n",
    "model.fit(X_train, y_train)\n",
    "y_train_pred = model.predict(X_train)\n",
    "y_test_pred = model.predict(X_test)\n",
    "\n",
    "\n",
    "train_accuracy = accuracy_score(y_train, y_train_pred)\n",
    "test_accuracy = accuracy_score(y_test, y_test_pred)\n",
    "\n",
    "print(f\"Training Accuracy: {train_accuracy}\")\n",
    "print(f\"Test Accuracy: {test_accuracy}\")\n"
   ]
  },
  {
   "cell_type": "code",
   "execution_count": 33,
   "id": "cbf81750-79f2-4d6f-8fb7-d7ee7ccd3567",
   "metadata": {
    "tags": []
   },
   "outputs": [
    {
     "name": "stdout",
     "output_type": "stream",
     "text": [
      "Training Accuracy: 0.8096797671033479\n",
      "Test Accuracy: 0.7982541222114452\n",
      "\n",
      "Classification Report on Training Data:\n",
      "              precision    recall  f1-score   support\n",
      "\n",
      "           0       0.84      0.77      0.80      4117\n",
      "           1       0.79      0.85      0.82      4127\n",
      "\n",
      "    accuracy                           0.81      8244\n",
      "   macro avg       0.81      0.81      0.81      8244\n",
      "weighted avg       0.81      0.81      0.81      8244\n",
      "\n",
      "\n",
      "Classification Report on Test Data:\n",
      "              precision    recall  f1-score   support\n",
      "\n",
      "           0       0.83      0.76      0.79      1036\n",
      "           1       0.77      0.84      0.81      1026\n",
      "\n",
      "    accuracy                           0.80      2062\n",
      "   macro avg       0.80      0.80      0.80      2062\n",
      "weighted avg       0.80      0.80      0.80      2062\n",
      "\n"
     ]
    }
   ],
   "source": [
    "from sklearn.metrics import accuracy_score, classification_report\n",
    "\n",
    "\n",
    "y_train_pred = model.predict(X_train)\n",
    "\n",
    "\n",
    "y_test_pred = model.predict(X_test)\n",
    "\n",
    "\n",
    "train_accuracy = accuracy_score(y_train, y_train_pred)\n",
    "print(f\"Training Accuracy: {train_accuracy}\")\n",
    "\n",
    "\n",
    "test_accuracy = accuracy_score(y_test, y_test_pred)\n",
    "print(f\"Test Accuracy: {test_accuracy}\")\n",
    "\n",
    "\n",
    "print(\"\\nClassification Report on Training Data:\")\n",
    "print(classification_report(y_train, y_train_pred))\n",
    "\n",
    "print(\"\\nClassification Report on Test Data:\")\n",
    "print(classification_report(y_test, y_test_pred))\n",
    "\n",
    "\n"
   ]
  },
  {
   "cell_type": "code",
   "execution_count": null,
   "id": "9e26d3ba-84d9-42de-bf63-a82c0e5602b8",
   "metadata": {},
   "outputs": [],
   "source": []
  }
 ],
 "metadata": {
  "kernelspec": {
   "display_name": "Python 3 (ipykernel)",
   "language": "python",
   "name": "python3"
  },
  "language_info": {
   "codemirror_mode": {
    "name": "ipython",
    "version": 3
   },
   "file_extension": ".py",
   "mimetype": "text/x-python",
   "name": "python",
   "nbconvert_exporter": "python",
   "pygments_lexer": "ipython3",
   "version": "3.11.7"
  }
 },
 "nbformat": 4,
 "nbformat_minor": 5
}
